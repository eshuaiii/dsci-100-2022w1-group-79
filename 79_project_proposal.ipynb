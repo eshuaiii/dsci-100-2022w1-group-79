{
 "cells": [
  {
   "cell_type": "markdown",
   "id": "daff5e04-41a1-4982-91e4-a065432b072a",
   "metadata": {},
   "source": [
    "# Exploring the Danceability of a song on Spotify based on multiple characteristics of the song"
   ]
  },
  {
   "cell_type": "code",
   "execution_count": 3,
   "id": "1acb125f-b616-44a9-8967-bd78a1d2deb3",
   "metadata": {},
   "outputs": [],
   "source": [
    "# Setting up prerequisites\n",
    "library(repr)\n",
    "library(tidyverse)\n",
    "library(tidymodels)\n",
    "options(repr.matrix.max.rows = 6)"
   ]
  }
 ],
 "metadata": {
  "kernelspec": {
   "display_name": "R",
   "language": "R",
   "name": "ir"
  },
  "language_info": {
   "codemirror_mode": "r",
   "file_extension": ".r",
   "mimetype": "text/x-r-source",
   "name": "R",
   "pygments_lexer": "r",
   "version": "4.1.3"
  }
 },
 "nbformat": 4,
 "nbformat_minor": 5
}
